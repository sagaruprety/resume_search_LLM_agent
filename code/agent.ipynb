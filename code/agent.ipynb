{
 "cells": [
  {
   "cell_type": "markdown",
   "metadata": {},
   "source": [
    "# Semantic Search Through Resumes for HR Tech Startups Using Qdrant\n",
    "\n",
    "## Utilise Qdrant, Langchain and OpenAI to narrow down on top resumes for the job\n"
   ]
  },
  {
   "cell_type": "code",
   "execution_count": null,
   "metadata": {},
   "outputs": [],
   "source": [
    "! pip install qdrant-client langchain openai pypdf"
   ]
  },
  {
   "cell_type": "code",
   "execution_count": 2,
   "metadata": {},
   "outputs": [],
   "source": [
    "import os\n",
    "import getpass\n",
    "from operator import itemgetter\n",
    "\n",
    "from langchain_community.document_loaders import PyPDFDirectoryLoader\n",
    "from langchain.vectorstores import Qdrant\n",
    "from langchain_community.chat_models import ChatOpenAI\n",
    "from langchain_community.embeddings.openai import OpenAIEmbeddings\n",
    "from langchain_core.prompts import ChatPromptTemplate, PromptTemplate\n",
    "from langchain_core.output_parsers import StrOutputParser\n",
    "from langchain_core.runnables import RunnablePassthrough\n",
    "from langchain.schema import format_document\n",
    "\n",
    "from langchain_core.runnables import RunnableParallel\n",
    "\n",
    "\n",
    "os.environ[\"OPENAI_API_KEY\"] = getpass.getpass(\"OpenAI API Key:\")"
   ]
  },
  {
   "cell_type": "code",
   "execution_count": 3,
   "metadata": {},
   "outputs": [
    {
     "name": "stdout",
     "output_type": "stream",
     "text": [
      "247\n"
     ]
    }
   ],
   "source": [
    "# get pdf resumes as text documents\n",
    "loader = PyPDFDirectoryLoader(\"../data/INFORMATION-TECHNOLOGY\")\n",
    "docs = loader.load()\n",
    "print(len(docs))\n"
   ]
  },
  {
   "cell_type": "code",
   "execution_count": 7,
   "metadata": {},
   "outputs": [],
   "source": [
    "# initialise embeddings used to convert text to vectors\n",
    "embeddings = OpenAIEmbeddings()\n",
    "\n",
    "# create a qdrant collection - a vector based index of all resumes\n",
    "qdrant_collection = Qdrant.from_documents(\n",
    "    docs,\n",
    "    embeddings,\n",
    "    location=\":memory:\",  # Local mode with in-memory storage only\n",
    "    collection_name=\"it_resumes\",\n",
    ")\n",
    "\n",
    "# construct a retriever on top of the vector store\n",
    "qdrant_retriever = qdrant_collection.as_retriever()\n"
   ]
  },
  {
   "cell_type": "code",
   "execution_count": 98,
   "metadata": {},
   "outputs": [],
   "source": [
    "\n",
    "# Now we define and initialise the components of an LLM chain, beginning with the prompt template and the model.\n",
    "\n",
    "template = \"\"\"You are a helpful assistant to a recruiter at a technology firm. You are be provided the following input context \\\n",
    "    from a dataset of resumes of IT professionals. Answer the question based only on the context. Also provide the  \\\n",
    "    source documents.\n",
    "{resume}\n",
    "\n",
    "Question: {question}\n",
    "\"\"\"\n",
    "prompt = ChatPromptTemplate.from_template(template)\n",
    "model  = ChatOpenAI(temperature=0, model='gpt-3.5-turbo-16k-0613')\n",
    "\n"
   ]
  },
  {
   "cell_type": "code",
   "execution_count": 99,
   "metadata": {},
   "outputs": [],
   "source": [
    "# Construct the chain, with two variables -  context and question to be passed onto the prompt.\n",
    "chain = (\n",
    "    {\"resume\": RunnablePassthrough()|qdrant_retriever, \"question\": RunnablePassthrough()}\n",
    "    | prompt\n",
    "    | model\n",
    "    | StrOutputParser()\n",
    ")\n",
    "\n"
   ]
  },
  {
   "cell_type": "code",
   "execution_count": 100,
   "metadata": {},
   "outputs": [
    {
     "data": {
      "text/plain": [
       "\"The resumes that mention both Java and HTML are the following:\\n\\n1. Document 0: INFORMATION TECHNOLOGY INTERN (TEST AUTOMATION ENGINEER)\\n2. Document 2: Skills - Microsoft Word, Excel, Access, SQL Server, VBA, Visual Studio\\n\\nSource documents:\\n- Document 0: '../data/INFORMATION-TECHNOLOGY/83816738.pdf'\\n- Document 2: '../data/INFORMATION-TECHNOLOGY/20001721.pdf'\""
      ]
     },
     "execution_count": 100,
     "metadata": {},
     "output_type": "execute_result"
    }
   ],
   "source": [
    "chain.invoke('Which resumes mention both Java and HTML?')\n"
   ]
  },
  {
   "cell_type": "code",
   "execution_count": 101,
   "metadata": {},
   "outputs": [
    {
     "data": {
      "text/plain": [
       "'The resumes that mention working with Cisco technologies are:\\n\\n1. Document 1: The first document mentions administering CISCO multi-VLAN layer 3 switched LAN/WAN, designing and administering CISCO VPN solution, and working with CISCO switches.\\n\\n2. Document 2: The second document mentions skills in Cisco switching and Cisco routers.\\n\\n3. Document 4: The fourth document mentions experience with Cisco hardware and software business solutions, Cisco command line IOS, and Cisco switches.\\n\\nSources:\\n- Document 1: ../data/INFORMATION-TECHNOLOGY/20879311.pdf\\n- Document 2: ../data/INFORMATION-TECHNOLOGY/91635250.pdf\\n- Document 4: ../data/INFORMATION-TECHNOLOGY/31243710.pdf'"
      ]
     },
     "execution_count": 101,
     "metadata": {},
     "output_type": "execute_result"
    }
   ],
   "source": [
    "chain.invoke('Which resumes which mention working with Cisco technologies.')"
   ]
  },
  {
   "cell_type": "code",
   "execution_count": 103,
   "metadata": {},
   "outputs": [
    {
     "data": {
      "text/plain": [
       "'Based on the provided input context, here are some resumes of IT professionals who have recent experience at the Director level:\\n\\n1. Resume: INFORMATION TECHNOLOGY DIRECTOR\\n   - Experience: April 1999 to January 2015\\n   - Company Name: Not specified\\n   - Source: ../data/INFORMATION-TECHNOLOGY/24038620.pdf\\n\\n2. Resume: INFORMATION TECHNOLOGY SENIOR MANAGER\\n   - Experience: April 2013 to February 2015\\n   - Company Name: Not specified\\n   - Source: ../data/INFORMATION-TECHNOLOGY/17681064.pdf\\n\\nPlease note that the specific company names are not provided in the input context.'"
      ]
     },
     "execution_count": 103,
     "metadata": {},
     "output_type": "execute_result"
    }
   ],
   "source": [
    "chain.invoke('Find me some resumes who have recent experience at Director level')"
   ]
  },
  {
   "cell_type": "code",
   "execution_count": 111,
   "metadata": {},
   "outputs": [
    {
     "data": {
      "text/plain": [
       "'Based on the provided input context, the following resumes mention experience working in the telecom domain:\\n\\n1. Document: \"../data/INFORMATION-TECHNOLOGY/10839851.pdf\"\\n   - Page Content: \"Bachelor of Science, Telecommunications Management\"\\n   - Page Content: \"Certifications: Cisco Certified Network Associate (CCNA/CCAI)\"\\n\\n2. Document: \"../data/INFORMATION-TECHNOLOGY/15297298.pdf\"\\n   - Page Content: \"Telecommunications Management\"\\n   - Page Content: \"telecommunication, phone, employee development, VoIP\"\\n\\nPlease note that the mentioned resumes are based on the provided input context and there may be additional resumes in the dataset that mention experience working in the telecom domain.'"
      ]
     },
     "execution_count": 111,
     "metadata": {},
     "output_type": "execute_result"
    }
   ],
   "source": [
    "chain.invoke('Find resumes which mention experience working in the telecom domain?')"
   ]
  }
 ],
 "metadata": {
  "kernelspec": {
   "display_name": "resume_search_LLM_agent",
   "language": "python",
   "name": "python3"
  },
  "language_info": {
   "codemirror_mode": {
    "name": "ipython",
    "version": 3
   },
   "file_extension": ".py",
   "mimetype": "text/x-python",
   "name": "python",
   "nbconvert_exporter": "python",
   "pygments_lexer": "ipython3",
   "version": "3.10.13"
  }
 },
 "nbformat": 4,
 "nbformat_minor": 2
}
